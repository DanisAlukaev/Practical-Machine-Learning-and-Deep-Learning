{
  "cells": [
    {
      "cell_type": "markdown",
      "metadata": {},
      "source": [
        "## Assignment 2 —  Embeddings from Language Models \n",
        "\n",
        "Author: Danis Alukaev <br>\n",
        "Email: d.alukaev@innopolis.university <br>\n",
        "Group: B19-DS-01"
      ]
    },
    {
      "cell_type": "markdown",
      "metadata": {
        "id": "2WpIeeeM1J6u"
      },
      "source": [
        "### ELMo: Embeddings from Language Models \n",
        "![](https://get.whotrades.com/u4/photoDE6C/20647654315-0/blogpost.jpeg)"
      ]
    },
    {
      "cell_type": "markdown",
      "metadata": {
        "id": "fjrI02kE2Zfr"
      },
      "source": [
        "In this assignment you will implement a deep lstm-based model for contextualized word embeddings - ELMo. Your tasks are as following: \n",
        "\n",
        "- Preprocessing (20 points)\n",
        "- Implementation of ELMo model (30 points)\n",
        "  - 2-layer BiLSTM (15 points)\n",
        "  - Highway layers (5 points) [link](https://paperswithcode.com/method/highway-layer) [paper](https://arxiv.org/pdf/1507.06228.pdf) [code](https://github.com/allenai/allennlp/blob/9f879b0964e035db711e018e8099863128b4a46f/allennlp/modules/highway.py#L11)\n",
        "  - CharCNN embeddings (10 points) [paper](https://arxiv.org/pdf/1509.01626.pdf)\n",
        "- Report metrics and loss using tensorbord/comet or other tool.  (10 points)\n",
        "- Evaluate on movie review dataset (20 pts)\n",
        "- Compare the performance with BERT model (10 pts)\n",
        "- Clean and documented code (10 points)\n",
        "\n",
        "\n",
        "Remarks: \n",
        "\n",
        "*   Use Pytorch\n",
        "*   Cheating will result in 0 points\n",
        "\n",
        "\n",
        "ELMo paper: https://arxiv.org/pdf/1802.05365.pdf\n",
        "\n",
        "Possible datasets:\n",
        "- [WikiText-103](https://blog.salesforceairesearch.com/the-wikitext-long-term-dependency-language-modeling-dataset/)\n",
        "- Any monolingual dataset from [WMT](https://statmt.org/wmt22/translation-task.html)"
      ]
    },
    {
      "cell_type": "markdown",
      "metadata": {},
      "source": [
        "## Prerequisites\n",
        "\n",
        "Make sure that all necessary dependencies are installed and CUDA 10.2 is available\n",
        "```\n",
        "$ pip install torch==1.12.1+cu102 torchvision==0.13.1+cu102 torchaudio==0.12.1 --extra-index-url https://download.pytorch.org/whl/cu102\n",
        "$ pip install torchtext==0.12.0\n",
        "$ pip install -U 'spacy[cuda-autodetect]'\n",
        "$ python -m spacy download en\n",
        "$ pip install --user -U nltk\n",
        "$ pip install allennlp\n",
        "```"
      ]
    },
    {
      "cell_type": "code",
      "execution_count": 76,
      "metadata": {},
      "outputs": [],
      "source": [
        "import re\n",
        "import gc\n",
        "import nltk\n",
        "import torch\n",
        "import pandas as pd \n",
        "import numpy as np\n",
        "import torch.nn as nn\n",
        "import torch.optim as optim"
      ]
    },
    {
      "cell_type": "code",
      "execution_count": 3,
      "metadata": {},
      "outputs": [
        {
          "name": "stderr",
          "output_type": "stream",
          "text": [
            "[nltk_data] Downloading package stopwords to /home/danis/nltk_data...\n",
            "[nltk_data]   Package stopwords is already up-to-date!\n",
            "[nltk_data] Downloading package wordnet to /home/danis/nltk_data...\n",
            "[nltk_data]   Package wordnet is already up-to-date!\n"
          ]
        },
        {
          "data": {
            "text/plain": [
              "True"
            ]
          },
          "execution_count": 3,
          "metadata": {},
          "output_type": "execute_result"
        }
      ],
      "source": [
        "nltk.download('stopwords')\n",
        "nltk.download('wordnet')"
      ]
    },
    {
      "cell_type": "code",
      "execution_count": 120,
      "metadata": {},
      "outputs": [],
      "source": [
        "from nltk.corpus import stopwords as stopwords_nltk\n",
        "from nltk.stem import WordNetLemmatizer\n",
        "from torch.utils.data import TensorDataset, DataLoader, Dataset\n",
        "from torchtext.data.utils import get_tokenizer\n",
        "from torchtext.vocab import vocab\n",
        "from collections import Counter, OrderedDict\n",
        "from torch.nn.utils.rnn import pad_sequence\n",
        "from transformers import pipeline, BertTokenizer\n",
        "from sklearn.metrics import accuracy_score\n",
        "from sklearn.model_selection import train_test_split\n",
        "from allennlp.modules.elmo import Elmo, batch_to_ids\n",
        "from matplotlib import pyplot as plt\n",
        "from tqdm import tqdm"
      ]
    },
    {
      "cell_type": "code",
      "execution_count": 5,
      "metadata": {},
      "outputs": [
        {
          "name": "stderr",
          "output_type": "stream",
          "text": [
            "/home/danis/anaconda3/envs/bottleneck/lib/python3.10/site-packages/torchtext/data/utils.py:123: UserWarning: Spacy model \"en\" could not be loaded, trying \"en_core_web_sm\" instead\n",
            "  warnings.warn(f'Spacy model \"{language}\" could not be loaded, trying \"{OLD_MODEL_SHORTCUTS[language]}\" instead')\n",
            "/home/danis/anaconda3/envs/bottleneck/lib/python3.10/site-packages/spacy/util.py:837: UserWarning: [W095] Model 'en_core_web_sm' (3.4.1) was trained with spaCy v3.4 and may not be 100% compatible with the current version (3.3.1). If you see errors or degraded performance, download a newer compatible model or retrain your custom model with the current spaCy version. For more details and available updates, run: python -m spacy validate\n",
            "  warnings.warn(warn_msg)\n"
          ]
        }
      ],
      "source": [
        "stopwords = stopwords_nltk.words('english')\n",
        "wordnet_lemmatizer = WordNetLemmatizer()\n",
        "en_tokenizer = get_tokenizer('spacy', language='en')"
      ]
    },
    {
      "cell_type": "markdown",
      "metadata": {
        "id": "RoFWzNeaTOTu"
      },
      "source": [
        "## Data loading and preprocessing\n",
        "Preprocess the english monolingual data (20 points):\n",
        "- clean\n",
        "- split to train and validation\n",
        "- tokenize\n",
        "- create vocabulary, convert words to numbers. [vocab](https://pytorch.org/text/stable/vocab.html#id1)\n",
        "- pad sequences\n",
        "\n",
        "Use these tutorials [one](https://pytorch.org/tutorials/beginner/torchtext_translation_tutorial.html) and [two](https://pytorch.org/tutorials/beginner/text_sentiment_ngrams_tutorial.html) as a reference\n",
        "\n",
        "![](https://miro.medium.com/max/720/1*UPirqwpBWnNmcwoUjfZZIA.png)"
      ]
    },
    {
      "cell_type": "markdown",
      "metadata": {},
      "source": [
        "For this assignment there will be used [WikiText-103](https://blog.salesforceairesearch.com/the-wikitext-long-term-dependency-language-modeling-dataset/) dataset. \n",
        "\n",
        "If you want to check this notebook locally, please run following commands in working directory (where notebook is located):\n",
        "```\n",
        "$ wget https://s3.amazonaws.com/research.metamind.io/wikitext/wikitext-103-raw-v1.zip\n",
        "$ unzip wikitext-103-raw-v1.zip\n",
        "```"
      ]
    },
    {
      "cell_type": "code",
      "execution_count": 230,
      "metadata": {},
      "outputs": [],
      "source": [
        "def process_string(\n",
        "    string, \n",
        "    stopwords=stopwords,\n",
        "    lemmatizer=wordnet_lemmatizer,\n",
        "):\n",
        "    # lead all characters to lower case\n",
        "    string = string.lower()\n",
        "    # remove punctuation\n",
        "    string = re.sub(r'[^\\w\\s]', ' ', string)\n",
        "    # remove URI links\n",
        "    string = re.sub(r'http\\S+', ' ', string)\n",
        "    # remove html tags\n",
        "    string = re.sub(r'<[^>]+>', ' ', string)\n",
        "    # remove special symbols\n",
        "    string = re.sub('\\W+',' ', string)\n",
        "    # remove numbers\n",
        "    string = ''.join(_ for _ in  string if not _.isdigit())\n",
        "    # remove non-latin symbols\n",
        "    string = re.sub(r'[^\\x00-\\x7f]', r'', string)\n",
        "    # remove double spaces\n",
        "    string = ' '.join(string.split())\n",
        "    # remove stopwords\n",
        "    string = ' '.join([_ for _ in string.split() if _ not in stopwords])\n",
        "    # lemmatize string\n",
        "    string = ' '.join([lemmatizer.lemmatize(_) for _ in string.split()])\n",
        "    return string"
      ]
    },
    {
      "cell_type": "code",
      "execution_count": 294,
      "metadata": {},
      "outputs": [],
      "source": [
        "class WikiTextDatasetReader:\n",
        "\n",
        "    def __init__(\n",
        "        self, \n",
        "        splits=[\"train\", \"valid\", \"test\"],\n",
        "        stopwords=stopwords,\n",
        "        lemmatizer=wordnet_lemmatizer,\n",
        "        tokenizer=en_tokenizer,\n",
        "        vocab_limit=20_000,\n",
        "        batch_size=16,\n",
        "        max_len_token=100,\n",
        "    ):\n",
        "        self.splits = splits\n",
        "        self.stopwords = stopwords\n",
        "        self.lemmatizer = lemmatizer\n",
        "        self.tokenizer = tokenizer\n",
        "        self.vocab_limit = vocab_limit\n",
        "        self.batch_size = batch_size\n",
        "        self.max_len_token = max_len_token\n",
        "        self.__load_split_shards()\n",
        "        self.__process_shards()\n",
        "        self.__build_elmo_vocabs()\n",
        "    \n",
        "    def index_tokens(self, seq):\n",
        "        # apply single-id and elmo-charachter indexers to a given sequence\n",
        "        tokens = self.tokenizer(seq)\n",
        "        char_idxs = list()\n",
        "        for token in tokens:\n",
        "            token_chars = torch.ones(self.max_len_token) * self.vocab_chars['<pad>']\n",
        "            token_chars[0] = self.vocab_chars['<bow>']\n",
        "            token_chars[1] = self.vocab_chars['<bos>']\n",
        "            token_chars[2 : len(token) + 2] = torch.tensor([self.vocab_chars[c] for c in token], dtype=torch.long)\n",
        "            token_chars[len(token) + 2] = self.vocab_chars['<eow>']\n",
        "            token_chars[len(token) + 3] = self.vocab_chars['<eos>']\n",
        "            char_idxs.append(token_chars)\n",
        "        index_dict = dict(\n",
        "            word_idxs = torch.tensor([self.vocab_words[t] for t in tokens], dtype=torch.long),\n",
        "            char_idxs = torch.stack(char_idxs, dim=0),\n",
        "        )\n",
        "        return index_dict\n",
        "    \n",
        "    def index_splits(self):\n",
        "        # apply token indexers to all samples in data splits\n",
        "        shards_indexed = {s: list() for s in self.splits}\n",
        "        for split in self.splits:\n",
        "            lines = self.shards[split]\n",
        "            for line in lines:\n",
        "                try:\n",
        "                    index_dict = self.index_tokens(line)\n",
        "                except:\n",
        "                    continue\n",
        "                shards_indexed[split].append(index_dict)\n",
        "        return shards_indexed\n",
        "    \n",
        "    def create_dataloaders(self):\n",
        "        # build dataloaders for data splits\n",
        "        dataloaders = {s: None for s in self.splits}\n",
        "        splits_indexed = self.index_splits()\n",
        "        for split in self.splits:\n",
        "            dataloader = DataLoader(\n",
        "                splits_indexed[split], \n",
        "                batch_size=self.batch_size, \n",
        "                shuffle=True, \n",
        "                collate_fn=self.__collate_fn\n",
        "            )\n",
        "            dataloaders[split] = dataloader\n",
        "        return dataloaders\n",
        "    \n",
        "    def __collate_fn(self, batch):\n",
        "        # collate function adding special tokens <bos>, <eos>, <bow>, <bos> etc. to form batch\n",
        "        word_batch, char_batch = [], []\n",
        "        for idx_dict in batch:\n",
        "            word_idxs, char_idxs = idx_dict[\"word_idxs\"], idx_dict[\"char_idxs\"]\n",
        "            word_batch.append(torch.cat([\n",
        "                torch.tensor([self.vocab_words['<bos>']]), \n",
        "                word_idxs, \n",
        "                torch.tensor([self.vocab_words['<eos>']]),\n",
        "                ], dim=0))\n",
        "            char_batch.append(char_idxs)\n",
        "        word_idxs = pad_sequence(word_batch, batch_first=True, padding_value=self.vocab_words['<pad>'])\n",
        "        size = word_idxs.shape[1]\n",
        "\n",
        "        char_batch_padded = list()\n",
        "        for char_sample in char_batch:\n",
        "            to_pad = size - len(char_sample)\n",
        "            char_batch_padded.append(torch.cat([char_sample, [[self.vocab_chars['<pad>']] * self.max_len_token]] * to_pad))\n",
        "\n",
        "        batch_dict = dict(\n",
        "            word_idxs = word_idxs,\n",
        "            char_idxs = torch.tensor(char_batch_padded)\n",
        "        )\n",
        "        return batch_dict\n",
        "    \n",
        "    def __load_split_shards(self):\n",
        "        # read data splits from local directory \"wikitext-103-raw\"\n",
        "        shards = {s: list() for s in self.splits}\n",
        "        for split in self.splits:\n",
        "            filename = f\"wiki.{split}.raw\"\n",
        "            path = f\"wikitext-103-raw/{filename}\" \n",
        "            with open(path, 'r') as f:\n",
        "                lines = f.readlines()\n",
        "            blank_line = \" \\n\"\n",
        "            lines = [seq for seq in lines if seq != blank_line]\n",
        "            shards[split] = lines\n",
        "        self.shards = shards\n",
        "    \n",
        "    def __process_shards(self):\n",
        "        # clead data in splits\n",
        "        shards_processed = {s: list() for s in self.splits}\n",
        "        for split in self.splits:\n",
        "            lines = self.shards[split]\n",
        "            shards_processed[split] = [\n",
        "                process_string(\n",
        "                    l, \n",
        "                    self.stopwords, \n",
        "                    self.lemmatizer\n",
        "                ) for l in lines\n",
        "            ]\n",
        "        self.shards = shards_processed\n",
        "    \n",
        "    def __build_elmo_vocabs(self):\n",
        "        # create lexicons for words and charachters\n",
        "        counter_words, counter_chars = Counter(), Counter()\n",
        "        for split in self.splits:\n",
        "            lines = self.shards[split]\n",
        "            for line in lines:\n",
        "                counter_words.update(self.tokenizer(line))\n",
        "                counter_chars.update(list(line))\n",
        "        counter_words_sorted = sorted(counter_words.items(), key=lambda x: x[1], reverse=True)\n",
        "        counter_words = OrderedDict(counter_words_sorted[:self.vocab_limit])\n",
        "        special_symbols = ['<unk>', '<pad>', '<bos>', '<eos>']\n",
        "        vocab_words = vocab(counter_words, specials=special_symbols)\n",
        "        vocab_words.set_default_index(vocab_words['<unk>'])\n",
        "        vocab_chars = vocab(counter_chars, specials=special_symbols + ['<bow>', '<eow>'])\n",
        "        vocab_chars.set_default_index(vocab_chars['<unk>'])\n",
        "        self.vocab_words = vocab_words\n",
        "        self.vocab_chars = vocab_chars"
      ]
    },
    {
      "cell_type": "code",
      "execution_count": 295,
      "metadata": {},
      "outputs": [],
      "source": [
        "wikitext = WikiTextDatasetReader(splits=[\"valid\"])"
      ]
    },
    {
      "cell_type": "code",
      "execution_count": 296,
      "metadata": {},
      "outputs": [],
      "source": [
        "dataloaders = wikitext.create_dataloaders()"
      ]
    },
    {
      "cell_type": "code",
      "execution_count": 298,
      "metadata": {},
      "outputs": [],
      "source": [
        "val_dataloader = dataloaders[\"valid\"]"
      ]
    },
    {
      "cell_type": "markdown",
      "metadata": {
        "id": "wU_JDeZ6TTx2"
      },
      "source": [
        "## Model - learning embeddings\n",
        "Read chapter 3 from the [paper](https://arxiv.org/pdf/1802.05365.pdf)\n",
        "\n",
        "Implement this model with \n",
        "- 2 BiLSTM layers,\n",
        "- CharCNN embeddings,\n",
        "- Highway layers,\n",
        "- out-of-vocabulary words handling\n",
        "\n",
        "Plot the training and validation losses over the epochs (iterations)\n",
        "\n",
        "Use the [implementation](https://github.com/allenai/allennlp/blob/main/allennlp/modules/elmo.py) as a reference\n",
        "\n",
        "![](https://miro.medium.com/max/720/1*3_wsDpyNG-TylsRACF48yA.png)\n",
        "\n",
        "![](https://miro.medium.com/max/720/1*8pG54o28pbD2L0dv5THL-A.png)"
      ]
    },
    {
      "cell_type": "code",
      "execution_count": 244,
      "metadata": {
        "id": "SUr4mW-J8V5o"
      },
      "outputs": [],
      "source": [
        "from torch import nn\n",
        "\n",
        "\n",
        "class HighwayLayers(nn.Module):\n",
        "    \"\"\"Implementation of Highway Layers.\"\"\"\n",
        "    \n",
        "    def __init__(\n",
        "        self, \n",
        "        input_dim=200,\n",
        "        num_layers=1, \n",
        "        activation=nn.ReLU()\n",
        "    ):\n",
        "        super().__init__()\n",
        "        self.input_dim = input_dim\n",
        "        self.num_layers = num_layers\n",
        "        self.activation = activation\n",
        "        layers = [nn.Linear(input_dim, 2 * input_dim) for l in range(num_layers)]\n",
        "        self.layers = nn.ModuleList(layers)\n",
        "        for layer in self.layers:\n",
        "            layer.bias[input_dim:].data.fill_(1)\n",
        "\n",
        "    def forward(self, x):\n",
        "        highway_output = x\n",
        "        for layer in self.layers:\n",
        "            projected_input = layer(highway_output)\n",
        "            linear_part = highway_output\n",
        "            nonlinear_part, gate = projected_input.chunk(2, dim=-1)\n",
        "            nonlinear_part = self.activation(nonlinear_part)\n",
        "            gate = torch.sigmoid(gate)\n",
        "            highway_output = gate * linear_part + (1 - gate) * nonlinear_part\n",
        "        return highway_output\n",
        "\n",
        "\n",
        "class CharCNN(nn.Module):\n",
        "    \"\"\"Implementaion of CharCNN.\"\"\"\n",
        "\n",
        "    def __init__(\n",
        "        self,\n",
        "        filters,\n",
        "        activation=nn.ReLU(),\n",
        "    ):\n",
        "        super().__init__()\n",
        "        self.filters = filters\n",
        "        self.activation = activation\n",
        "        self.layers = nn.ModuleList([nn.Conv1d(in_channels=4, out_channels=n, kernel_size=w, bias=True) for (w, n) in filters])\n",
        "\n",
        "    def forward(self, x):\n",
        "        x = torch.transpose(x, 1, 2)\n",
        "        outs = []\n",
        "        for layer in self.layers:\n",
        "            out = layer(x)\n",
        "            out, _ = torch.max(out, dim=-1)\n",
        "            out = self.activation(out)\n",
        "            outs.append(out)\n",
        "        embedding = torch.cat(outs, dim=-1)\n",
        "        return embedding\n",
        "    \n",
        "\n",
        "class ELMo(nn.Module):\n",
        "    \"\"\"Implementation of ELMo model.\"\"\"\n",
        "    \n",
        "    def __init__(\n",
        "        self, \n",
        "        vocab_size=20_000,\n",
        "        max_len_token=50,\n",
        "        filters=[[1, 4], [2, 8], [3, 16], [4, 32], [5, 64]],\n",
        "        embedding_dim=15,\n",
        "        output_dim=64,\n",
        "        lstm_hidden_size=128,\n",
        "    ):\n",
        "        super().__init__()\n",
        "        self.vocab_size = vocab_size\n",
        "        self.filters = filters\n",
        "        self.embedding_dim = embedding_dim\n",
        "        self.max_len_token = max_len_token\n",
        "        self.output_dim = output_dim\n",
        "        \n",
        "        self.embeddings = nn.Embedding(vocab_size, embedding_dim)\n",
        "\n",
        "        n_filters = sum([_[1] for _ in filters])\n",
        "        self.highway = HighwayLayers(input_dim=n_filters)\n",
        "        self.char_cnn = CharCNN(filters)\n",
        "        self.projection = nn.Linear(n_filters, output_dim, bias=True)\n",
        "\n",
        "        self.bilstm1 = nn.LSTM(\n",
        "            input_size=output_dim,\n",
        "            hidden_size=lstm_hidden_size,\n",
        "            bidirectional=True,\n",
        "            batch_first=True,\n",
        "            proj_size=output_dim\n",
        "        )\n",
        "\n",
        "        self.bilstm2 = nn.LSTM(\n",
        "            input_size=2 * output_dim,\n",
        "            hidden_size=lstm_hidden_size,\n",
        "            bidirectional=True,\n",
        "            batch_first=True,\n",
        "            proj_size=output_dim\n",
        "        )\n",
        "\n",
        "        self.linear1 = nn.Linear(2 * output_dim, vocab_size, bias=True)\n",
        "\n",
        "    def forward(self, x):\n",
        "        x = self.embeddings(x.view(-1, self.max_len_token))\n",
        "        x = self.char_cnn(x)\n",
        "        x = self.highway(x)\n",
        "        x = self.projection(x)\n",
        "        x, (_, _) = self.bilstm1(x)\n",
        "        x, (_, _) = self.bilstm2(x)\n",
        "        x = self.linear1(x)\n",
        "        return x\n",
        "\n",
        "elmo = ELMo()"
      ]
    },
    {
      "cell_type": "markdown",
      "metadata": {
        "id": "WQ4HsuafA5sQ"
      },
      "source": [
        "## Evaluate your embeddings model on IMDB movie reviews dataset (sentiment analysis) \n",
        "\n",
        "If you want to check this notebook locally, please download [dataset from kaggle](https://www.kaggle.com/datasets/lakshmi25npathi/imdb-dataset-of-50k-movie-reviews) in working directory (where notebook is located). Expected name of a file is `IMDB Dataset.csv`.\n",
        "\n",
        "According to our TA Aidar Valiev (see [message](https://t.me/c/1614542078/391)) we can use pretrained ELMo. For example, it could be one from [AllenNLP](https://github.com/allenai/allennlp).\n",
        "\n",
        "Please, download these files in working directory (where notebook is located):\n",
        "```\n",
        "$ wget https://s3-us-west-2.amazonaws.com/allennlp/models/elmo/2x4096_512_2048cnn_2xhighway/elmo_2x4096_512_2048cnn_2xhighway_options.json\n",
        "$ wget https://s3-us-west-2.amazonaws.com/allennlp/models/elmo/2x4096_512_2048cnn_2xhighway/elmo_2x4096_512_2048cnn_2xhighway_weights.hdf5\n",
        "```\n"
      ]
    },
    {
      "cell_type": "code",
      "execution_count": 214,
      "metadata": {},
      "outputs": [],
      "source": [
        "# CONFIGURATION\n",
        "\n",
        "BATCH_SIZE = 64\n",
        "DEVICE = \"cuda\"\n",
        "EPOCHS = 3"
      ]
    },
    {
      "cell_type": "markdown",
      "metadata": {},
      "source": [
        "### Preprocess IMDB moview reviews dataset\n",
        "\n",
        "Let's load IMDB dataset and preprocess each sample using `process_string` method."
      ]
    },
    {
      "cell_type": "code",
      "execution_count": 215,
      "metadata": {
        "id": "IQ_0LTQf81CM"
      },
      "outputs": [],
      "source": [
        "def preprocess_imdb():\n",
        "    df = pd.read_csv(\"IMDB Dataset.csv\")\n",
        "    df[\"label\"] = (df[\"sentiment\"] == \"positive\").astype(np.int32)\n",
        "    df[\"review_processed\"] = df[\"review\"].apply(process_string)\n",
        "    return df\n",
        "\n",
        "df = preprocess_imdb()"
      ]
    },
    {
      "cell_type": "markdown",
      "metadata": {},
      "source": [
        "Propotions of data splits for train, validation, and test is `0.7`, `0.15`, and `0.15` respectively."
      ]
    },
    {
      "cell_type": "code",
      "execution_count": 216,
      "metadata": {},
      "outputs": [],
      "source": [
        "x_train, x_test, y_train, y_test = train_test_split(df[\"review_processed\"], df[\"label\"], test_size=0.3)\n",
        "x_val, x_test, y_val, y_test = train_test_split(x_test, y_test, test_size=0.5)"
      ]
    },
    {
      "cell_type": "code",
      "execution_count": 217,
      "metadata": {},
      "outputs": [],
      "source": [
        "class DatasetIMDB(Dataset):\n",
        "    \"\"\"IMDB dataset\"\"\"\n",
        "\n",
        "    def __init__(self, X, y):\n",
        "        self.X, self.y = list(X), list(y)\n",
        "    \n",
        "    def __len__(self):\n",
        "        return len(self.y)\n",
        "    \n",
        "    def __getitem__(self, idx):\n",
        "        x, y = self.X[idx], self.y[idx]\n",
        "        sample = dict(x=x, y=torch.tensor([y]))\n",
        "        return sample\n",
        "\n",
        "\n",
        "def collate_fn(batch, restrict=512):\n",
        "    # custom collator adding token indexes for each sample via AllenNLP batch_to_ids\n",
        "    seqs, targets, n_tokens = list(), list(), list()\n",
        "    for sample in batch:\n",
        "        tokens = sample[\"x\"].split()[:restrict]\n",
        "        seqs.append(tokens)\n",
        "        n_tokens.append([len(tokens)])\n",
        "        targets.append(sample[\"y\"])\n",
        "    \n",
        "    batch_dict = dict(\n",
        "        x=seqs,\n",
        "        n_tokens=torch.tensor(n_tokens),\n",
        "        indexes=batch_to_ids(seqs),\n",
        "        y=torch.tensor(targets)\n",
        "    )\n",
        "    return batch_dict"
      ]
    },
    {
      "cell_type": "code",
      "execution_count": 218,
      "metadata": {},
      "outputs": [],
      "source": [
        "imdb_train_dataset = DatasetIMDB(x_train, y_train)\n",
        "imdb_train_dataloader = DataLoader(imdb_train_dataset, batch_size=BATCH_SIZE, shuffle=True, collate_fn=collate_fn, pin_memory=True)\n",
        "\n",
        "imdb_val_dataset = DatasetIMDB(x_val, y_val)\n",
        "imdb_val_dataloader = DataLoader(imdb_val_dataset, batch_size=BATCH_SIZE, shuffle=True, collate_fn=collate_fn, pin_memory=True)\n",
        "\n",
        "imdb_test_dataset = DatasetIMDB(x_test, y_test)\n",
        "imdb_test_dataloader = DataLoader(imdb_test_dataset, batch_size=BATCH_SIZE, shuffle=False, collate_fn=collate_fn, pin_memory=True)"
      ]
    },
    {
      "cell_type": "markdown",
      "metadata": {},
      "source": [
        "### Sentiment Classification\n",
        "\n",
        "To classify reviews, I will build a new model comprised of pre-trained ELMo model as a feature extractor and multi-layer percetptron as a predictor."
      ]
    },
    {
      "cell_type": "code",
      "execution_count": 219,
      "metadata": {},
      "outputs": [],
      "source": [
        "class MLP(nn.Module):\n",
        "    \"\"\"Implementation of Multi-Layer Perceptron\"\"\"\n",
        "\n",
        "    def __init__(self, layers=[512, 256, 128, 64, 1], activation=nn.ReLU()):\n",
        "        super().__init__()\n",
        "        assert all(isinstance(x, int) for x in layers)\n",
        "        self.main = self.__build__(layers, activation)\n",
        "        self.layers = layers\n",
        "        self.activation = activation\n",
        "\n",
        "    def __build__(self, layers, activation):\n",
        "        main = list()\n",
        "        n_layers = len(layers)\n",
        "        for layer_idx in range(n_layers - 1):\n",
        "            in_dim = layers[layer_idx]\n",
        "            out_dim = layers[layer_idx + 1]\n",
        "            linear = nn.Linear(in_dim, out_dim)\n",
        "            if layer_idx == n_layers - 2:\n",
        "                main.append(linear)\n",
        "                continue\n",
        "            main.extend([linear, activation])\n",
        "        main = nn.Sequential(*main)\n",
        "        return main\n",
        "\n",
        "    def forward(self, x):\n",
        "        out = self.main(x)\n",
        "        return out"
      ]
    },
    {
      "cell_type": "code",
      "execution_count": 220,
      "metadata": {},
      "outputs": [],
      "source": [
        "# ELMo representation is vector of size 1024\n",
        "# number of classes is 2\n",
        "mlp = MLP(layers=[1024, 512, 2]).to(DEVICE)"
      ]
    },
    {
      "cell_type": "markdown",
      "metadata": {},
      "source": [
        "Note that AllanNLP ELMo has trainable parameters $\\gamma^{task}$ and $s^{task}_j$ by default. Also, gradients of BiLSTM are disabled on initialization.\n"
      ]
    },
    {
      "cell_type": "code",
      "execution_count": 221,
      "metadata": {},
      "outputs": [],
      "source": [
        "# load weights for AllenNLP ELMo\n",
        "options_file = \"elmo_2x4096_512_2048cnn_2xhighway_options.json\"\n",
        "weight_file = \"elmo_2x4096_512_2048cnn_2xhighway_weights.hdf5\"\n",
        "\n",
        "elmo = Elmo(options_file, weight_file, num_output_representations=1, dropout=0).to(DEVICE)"
      ]
    },
    {
      "cell_type": "code",
      "execution_count": 222,
      "metadata": {},
      "outputs": [],
      "source": [
        "class ELMoSentimentAnalysis(nn.Module):\n",
        "    \"\"\"Sentiment Analysis through ELMo and MLP\"\"\"\n",
        "\n",
        "    def __init__(self, elmo, mlp):\n",
        "        super().__init__()\n",
        "        self.elmo = elmo\n",
        "        self.mlp = mlp\n",
        "    \n",
        "    def forward(self, indexes, n_tokens):\n",
        "        # compute ELMo representations for each token\n",
        "        embeddings = self.elmo(indexes)[\"elmo_representations\"][0]\n",
        "        # let semantic of a sequence be defined as mean of ELMo representations of non-padding tokens \n",
        "        embeddings_avg = torch.div(torch.sum(embeddings, dim=1), n_tokens)\n",
        "        # predict target using semantic\n",
        "        y = self.mlp(embeddings_avg)\n",
        "        return y\n",
        "\n",
        "model = ELMoSentimentAnalysis(elmo, mlp)"
      ]
    },
    {
      "cell_type": "code",
      "execution_count": 223,
      "metadata": {},
      "outputs": [],
      "source": [
        "criterion = nn.CrossEntropyLoss()\n",
        "optimizer = optim.AdamW(model.parameters(), lr=0.01, weight_decay=5e-4)"
      ]
    },
    {
      "cell_type": "code",
      "execution_count": 212,
      "metadata": {},
      "outputs": [],
      "source": [
        "def train(model, criterion, loader, optimizer):\n",
        "    model.to(DEVICE)\n",
        "    model.train()\n",
        "    \n",
        "    train_loss = 0.0\n",
        "    accuracy = []\n",
        "    for i, batch in enumerate(tqdm(loader)):\n",
        "        indexes, n_tokens, labels = batch[\"indexes\"].to(DEVICE), batch[\"n_tokens\"].to(DEVICE), batch[\"y\"].to(DEVICE)\n",
        "        optimizer.zero_grad()\n",
        "        predictions = model(indexes, n_tokens)\n",
        "        loss = criterion(predictions, labels)\n",
        "        loss.backward()\n",
        "        optimizer.step()\n",
        "        train_loss += loss.item()\n",
        "        \n",
        "        _, predicted_classes = predictions.max(1)\n",
        "        predicted_classes = predicted_classes.cpu().detach().numpy()\n",
        "        labels = labels.cpu().detach().numpy()\n",
        "        accuracy.append(accuracy_score(labels, predicted_classes))\n",
        "\n",
        "        # gc.collect()\n",
        "        # torch.cuda.empty_cache()\n",
        "        \n",
        "    return train_loss / len(loader), np.mean(np.array(accuracy))    \n",
        "\n",
        "def test(model, criterion, loader):\n",
        "    model.eval()\n",
        "    test_loss = 0.0\n",
        "    accuracy = []\n",
        "    with torch.no_grad():\n",
        "        for i, batch in enumerate(tqdm(loader)):\n",
        "            indexes, n_tokens, labels = batch[\"indexes\"].to(DEVICE), batch[\"n_tokens\"].to(DEVICE), batch[\"y\"].to(DEVICE)\n",
        "            predictions = model(indexes, n_tokens)\n",
        "            loss = criterion(predictions, labels)\n",
        "            test_loss += loss.item()\n",
        "            \n",
        "            _, predicted_classes = predictions.max(1)\n",
        "            predicted_classes = predicted_classes.cpu().detach().numpy()\n",
        "            labels = labels.cpu().detach().numpy()\n",
        "            accuracy.append(accuracy_score(labels, predicted_classes))\n",
        "\n",
        "            # gc.collect()\n",
        "            # torch.cuda.empty_cache()\n",
        "    \n",
        "    return test_loss / len(loader), np.mean(np.array(accuracy))"
      ]
    },
    {
      "cell_type": "code",
      "execution_count": 213,
      "metadata": {},
      "outputs": [],
      "source": [
        "def visualize(losses, accuracies):\n",
        "    # visualize training progress\n",
        "    fig, (ax1, ax2) = plt.subplots(1, 2)\n",
        "    fig.set_size_inches(25, 8)\n",
        "    fig.suptitle(f\"Training process\")\n",
        "    ax1.set_title(f\"Comparison of losses\")\n",
        "    ax1.grid(linestyle='--')\n",
        "    ax1.set_xlabel('Epoch')\n",
        "    ax1.set_ylabel('Loss')\n",
        "    ax1.plot(np.arange(len(losses['train'])), np.array(losses['train']), '-o', label='Train', c='b')\n",
        "    ax1.plot(np.arange(len(losses['test'])), np.array(losses['test']), '-o', label='Test', c='r')\n",
        "    ax1.legend()\n",
        "\n",
        "    ax2.set_title(f\"Comparison of accuracies\")\n",
        "    ax2.grid(linestyle='--')\n",
        "    ax2.set_xlabel('Epoch')\n",
        "    ax2.set_ylabel('Accuracy')\n",
        "    ax2.plot(np.arange(len(accuracies['train'])), np.array(accuracies['train']), '-o', label='Train', c='b')\n",
        "    ax2.plot(np.arange(len(accuracies['test'])), np.array(accuracies['test']), '-o', label='Test', c='r')\n",
        "    ax2.legend()\n",
        "\n",
        "    plt.show() "
      ]
    },
    {
      "cell_type": "code",
      "execution_count": 224,
      "metadata": {},
      "outputs": [
        {
          "name": "stderr",
          "output_type": "stream",
          "text": [
            "100%|██████████| 547/547 [12:27<00:00,  1.37s/it]\n",
            "100%|██████████| 118/118 [02:28<00:00,  1.26s/it]\n"
          ]
        },
        {
          "name": "stdout",
          "output_type": "stream",
          "text": [
            "Epoch: 01 | Train loss: 0.44417 | Test loss: 0.39195 | Train accuracy: 0.80068 | Test accuracy: 0.82309\n"
          ]
        },
        {
          "name": "stderr",
          "output_type": "stream",
          "text": [
            "100%|██████████| 547/547 [12:34<00:00,  1.38s/it]\n",
            "100%|██████████| 118/118 [02:31<00:00,  1.29s/it]\n"
          ]
        },
        {
          "name": "stdout",
          "output_type": "stream",
          "text": [
            "Epoch: 02 | Train loss: 0.37331 | Test loss: 0.36989 | Train accuracy: 0.83304 | Test accuracy: 0.83488\n"
          ]
        },
        {
          "name": "stderr",
          "output_type": "stream",
          "text": [
            "100%|██████████| 547/547 [12:34<00:00,  1.38s/it]\n",
            "100%|██████████| 118/118 [02:34<00:00,  1.31s/it]"
          ]
        },
        {
          "name": "stdout",
          "output_type": "stream",
          "text": [
            "Epoch: 03 | Train loss: 0.35990 | Test loss: 0.37859 | Train accuracy: 0.83957 | Test accuracy: 0.82857\n"
          ]
        },
        {
          "name": "stderr",
          "output_type": "stream",
          "text": [
            "\n"
          ]
        }
      ],
      "source": [
        "losses = {'train': [], 'test': []}\n",
        "accuracies = {'train': [], 'test': []}\n",
        "\n",
        "for epoch in range(EPOCHS):  \n",
        "    train_loss, train_accuracy = train(model, criterion, imdb_train_dataloader, optimizer)\n",
        "    test_loss, test_accuracy = test(model, criterion, imdb_test_dataloader)\n",
        "    \n",
        "    losses['train'].append(train_loss)\n",
        "    losses['test'].append(test_loss)\n",
        "    accuracies['train'].append(train_accuracy)\n",
        "    accuracies['test'].append(test_accuracy)\n",
        "    print(f\"Epoch: {epoch+1:02d} | Train loss: {train_loss:.5f} | Test loss: {test_loss:.5f} | Train accuracy: {train_accuracy:.5f} | Test accuracy: {test_accuracy:.5f}\")"
      ]
    },
    {
      "cell_type": "markdown",
      "metadata": {},
      "source": [
        "### Metric Plots"
      ]
    },
    {
      "cell_type": "code",
      "execution_count": 225,
      "metadata": {},
      "outputs": [
        {
          "data": {
            "image/png": "[encoded data removed]",
            "text/plain": [
              "<Figure size 2500x800 with 2 Axes>"
            ]
          },
          "metadata": {},
          "output_type": "display_data"
        }
      ],
      "source": [
        "visualize(losses, accuracies)"
      ]
    },
    {
      "cell_type": "code",
      "execution_count": 227,
      "metadata": {},
      "outputs": [
        {
          "name": "stdout",
          "output_type": "stream",
          "text": [
            "Accuracy of sentiment-analysis pipeline based on ELMo embeddings is 82.86%\n"
          ]
        }
      ],
      "source": [
        "print(f\"Accuracy of sentiment-analysis pipeline based on ELMo embeddings is {accuracies['test'][-1] * 100:.2f}%\")"
      ]
    },
    {
      "cell_type": "markdown",
      "metadata": {
        "id": "DKhTvahJBcBI"
      },
      "source": [
        "## Compare the results with BERT embeddings\n",
        "\n",
        "Hugging face package includes pipelines for various NLP tasks including sentiment analysis. In this sections let's use it to classify IMDB movie reviews."
      ]
    },
    {
      "cell_type": "code",
      "execution_count": 228,
      "metadata": {},
      "outputs": [],
      "source": [
        "model = \"distilbert-base-uncased-finetuned-sst-2-english\"\n",
        "x_test_truncated = [_[:512] for _ in list(x_test)]\n",
        "model = pipeline(\"sentiment-analysis\", model=model, device=0)\n",
        "y_pred = model(x_test_truncated)\n",
        "result = [int(_['label'] != 'NEGATIVE') for _ in y_pred]"
      ]
    },
    {
      "cell_type": "code",
      "execution_count": 229,
      "metadata": {},
      "outputs": [
        {
          "name": "stdout",
          "output_type": "stream",
          "text": [
            "Accuracy of sentiment-analysis pipeline based on BERT embeddings is 78.67%\n"
          ]
        }
      ],
      "source": [
        "accuracy = accuracy_score(y_test, result)\n",
        "print(f\"Accuracy of sentiment-analysis pipeline based on BERT embeddings is {accuracy * 100:.2f}%\")"
      ]
    },
    {
      "cell_type": "markdown",
      "metadata": {},
      "source": [
        "Wow! Accuracy of pre-trained BERT is less than for ELMo embeddings 🥳"
      ]
    }
  ],
  "metadata": {
    "colab": {
      "collapsed_sections": [],
      "provenance": []
    },
    "kernelspec": {
      "display_name": "Python 3 (ipykernel)",
      "language": "python",
      "name": "python3"
    },
    "language_info": {
      "codemirror_mode": {
        "name": "ipython",
        "version": 3
      },
      "file_extension": ".py",
      "mimetype": "text/x-python",
      "name": "python",
      "nbconvert_exporter": "python",
      "pygments_lexer": "ipython3",
      "version": "3.10.4"
    }
  },
  "nbformat": 4,
  "nbformat_minor": 0
}
